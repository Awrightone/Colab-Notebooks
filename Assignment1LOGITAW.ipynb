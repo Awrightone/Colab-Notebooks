{
  "nbformat": 4,
  "nbformat_minor": 0,
  "metadata": {
    "colab": {
      "provenance": [],
      "collapsed_sections": [],
      "mount_file_id": "1xjnjQV4L3jLiYyE_WmzBEBYf3xoELb0i",
      "authorship_tag": "ABX9TyOUs8/IZNNqUGXitjF1Jc37",
      "include_colab_link": true
    },
    "kernelspec": {
      "name": "python3",
      "display_name": "Python 3"
    },
    "language_info": {
      "name": "python"
    }
  },
  "cells": [
    {
      "cell_type": "markdown",
      "metadata": {
        "id": "view-in-github",
        "colab_type": "text"
      },
      "source": [
        "<a href=\"https://colab.research.google.com/github/Awrightone/Colab/blob/main/Assignment1LOGITAW.ipynb\" target=\"_parent\"><img src=\"https://colab.research.google.com/assets/colab-badge.svg\" alt=\"Open In Colab\"/></a>"
      ]
    },
    {
      "cell_type": "code",
      "source": [
        "import pandas as pd"
      ],
      "metadata": {
        "id": "0Kv2GeoEL_ox"
      },
      "execution_count": null,
      "outputs": []
    },
    {
      "cell_type": "code",
      "source": [
        "dfAW = pd.read_csv(\"inq2021.csv\")"
      ],
      "metadata": {
        "id": "ZYH2xSsPMEPw"
      },
      "execution_count": null,
      "outputs": []
    },
    {
      "cell_type": "code",
      "source": [
        "dfAW.describe(include='all')"
      ],
      "metadata": {
        "id": "nYNm5wCvMSiv"
      },
      "execution_count": null,
      "outputs": []
    },
    {
      "cell_type": "code",
      "source": [
        "dfAW.info()"
      ],
      "metadata": {
        "id": "kyRYYeA0Mq0f"
      },
      "execution_count": null,
      "outputs": []
    },
    {
      "cell_type": "code",
      "source": [
        "dfAW.isnull().sum()/len(dfAW)"
      ],
      "metadata": {
        "id": "VE0DwcINMvhf"
      },
      "execution_count": null,
      "outputs": []
    },
    {
      "cell_type": "code",
      "source": [
        "NullValue= ['avg_income','distance']\n",
        "dfAW[NullValue]=dfAW[NullValue].fillna(dfAW[NullValue].mean())\n"
      ],
      "metadata": {
        "id": "V7bomGpoeI8i"
      },
      "execution_count": null,
      "outputs": []
    },
    {
      "cell_type": "code",
      "source": [
        "dummy_dataAW = pd.get_dummies(dfAW[['Instate','TERRITORY']])\n",
        "dummy_dataAW.describe()"
      ],
      "metadata": {
        "id": "xyv0JEO_b0hU"
      },
      "execution_count": null,
      "outputs": []
    },
    {
      "cell_type": "code",
      "source": [
        "num_namesAW=['CAMPUS_VISIT','REFERRAL_CNTCTS', 'SELF_INIT_CNTCTS', 'SOLICITED_CNTCTS', 'TRAVEL_INIT_CNTCTS', 'avg_income', 'distance', 'hscrat','init_span', 'int1rat', 'int2rat', 'interest', 'mailq', 'stucar','premiere'] \n",
        "dum_namesAW= ['TERRITORY_1', 'TERRITORY_2', 'TERRITORY_3', 'TERRITORY_4', 'TERRITORY_5', 'TERRITORY_6', 'TERRITORY_7', 'TERRITORY_8']\n",
        "\n",
        "XAW= pd.concat([dfAW[num_namesAW],dummy_dataAW[dum_namesAW]], axis=1)\n",
        "\n",
        "XAW.describe(include='all')"
      ],
      "metadata": {
        "id": "-mEJw8Yd7ZX0"
      },
      "execution_count": null,
      "outputs": []
    },
    {
      "cell_type": "code",
      "source": [
        "XAW.skew(axis=0,skipna= True)"
      ],
      "metadata": {
        "id": "Fk3h-AxOl-0e"
      },
      "execution_count": null,
      "outputs": []
    },
    {
      "cell_type": "code",
      "source": [
        "XAW.hist(bins=30, figsize=(15,10))"
      ],
      "metadata": {
        "id": "2vD2ab1kmLFy"
      },
      "execution_count": null,
      "outputs": []
    },
    {
      "cell_type": "code",
      "source": [
        "import numpy as np"
      ],
      "metadata": {
        "id": "hH4hKsbQs21C"
      },
      "execution_count": null,
      "outputs": []
    },
    {
      "cell_type": "code",
      "source": [
        "XAW['avg_income']=np.log10(XAW['avg_income'])"
      ],
      "metadata": {
        "id": "81kMiG22mhW6"
      },
      "execution_count": null,
      "outputs": []
    },
    {
      "cell_type": "code",
      "source": [
        "XAW['distance']=np.log10(XAW['distance'])"
      ],
      "metadata": {
        "id": "gZ8K9oUxmw7f"
      },
      "execution_count": null,
      "outputs": []
    },
    {
      "cell_type": "code",
      "source": [
        "from statsmodels.stats.outliers_influence import variance_inflation_factor"
      ],
      "metadata": {
        "id": "vHCv1iEoJP_A"
      },
      "execution_count": null,
      "outputs": []
    },
    {
      "cell_type": "code",
      "source": [
        "vif_dataAW = pd.DataFrame()\n",
        "vif_dataAW[\"Column_Name\"] = XAW.columns\n",
        "\n",
        "vif_dataAW [\"VIF\"] = [variance_inflation_factor(XAW.values, i) for i in range(len(XAW.columns))]\n",
        "\n",
        "print(vif_dataAW)"
      ],
      "metadata": {
        "id": "RtPJOKbQJZNB"
      },
      "execution_count": null,
      "outputs": []
    },
    {
      "cell_type": "code",
      "source": [
        "XAW.corr()"
      ],
      "metadata": {
        "id": "zI4nw596h_Wt"
      },
      "execution_count": null,
      "outputs": []
    },
    {
      "cell_type": "code",
      "source": [
        "YAW=dfAW['Enroll']"
      ],
      "metadata": {
        "id": "OySf1aN8mubh"
      },
      "execution_count": null,
      "outputs": []
    },
    {
      "cell_type": "code",
      "source": [
        "from sklearn.model_selection import train_test_split\n",
        "XAW_train,XAW_val, YAW_train, YAW_val = train_test_split(XAW,YAW, test_size= 0.3, random_state=0)"
      ],
      "metadata": {
        "id": "Q42Sy7X1xERN"
      },
      "execution_count": null,
      "outputs": []
    },
    {
      "cell_type": "code",
      "source": [
        "import statsmodels.api as sm"
      ],
      "metadata": {
        "id": "3jwBBbwf-chC"
      },
      "execution_count": null,
      "outputs": []
    },
    {
      "cell_type": "code",
      "source": [
        "log_reg= sm.Logit(YAW_train, XAW_train).fit()"
      ],
      "metadata": {
        "id": "_X4dBA27xYA2"
      },
      "execution_count": null,
      "outputs": []
    },
    {
      "cell_type": "code",
      "source": [
        "print(log_reg.summary())"
      ],
      "metadata": {
        "id": "WLOqZU0C-n-F"
      },
      "execution_count": null,
      "outputs": []
    },
    {
      "cell_type": "code",
      "source": [
        "from sklearn.metrics import confusion_matrix"
      ],
      "metadata": {
        "id": "--zk7z7VF6jQ"
      },
      "execution_count": null,
      "outputs": []
    },
    {
      "cell_type": "code",
      "source": [
        "prediction_prob= log_reg.predict(XAW_val)\n",
        "predictionAW =list(map(round,prediction_prob))\n",
        "confusion_matrix(YAW_val,predictionAW)"
      ],
      "metadata": {
        "id": "93kfvv8GGErV"
      },
      "execution_count": null,
      "outputs": []
    },
    {
      "cell_type": "code",
      "source": [
        "from sklearn.metrics import roc_curve\n",
        "from sklearn.metrics import roc_auc_score\n",
        "from matplotlib import pyplot as plt"
      ],
      "metadata": {
        "id": "wGmRq3QsIjKp"
      },
      "execution_count": null,
      "outputs": []
    },
    {
      "cell_type": "code",
      "source": [
        "lr_aucAW=roc_auc_score(YAW_val, prediction_prob)\n",
        "print('Logistic: ROC AUC=%.3f' % (lr_aucAW))"
      ],
      "metadata": {
        "id": "nMPnPjWcI3Tr"
      },
      "execution_count": null,
      "outputs": []
    },
    {
      "cell_type": "code",
      "source": [
        "lr_fpr, lr_tpr, _ = roc_curve(YAW_val, prediction_prob)\n",
        "plt.plot(lr_fpr, lr_tpr, marker='.')\n",
        "plt.xlabel('False Positive Rate')\n",
        "plt.ylabel('True Positive Rate')\n",
        "plt.show()"
      ],
      "metadata": {
        "id": "S-7KwoLeKEgY",
        "colab": {
          "base_uri": "https://localhost:8080/",
          "height": 279
        },
        "outputId": "50158b80-7dc3-4a89-d041-26c1cb751935"
      },
      "execution_count": null,
      "outputs": [
        {
          "output_type": "display_data",
          "data": {
            "text/plain": [
              "<Figure size 432x288 with 1 Axes>"
            ],
            "image/png": "[encoded data removed]"
          },
          "metadata": {
            "needs_background": "light"
          }
        }
      ]
    }
  ]
}