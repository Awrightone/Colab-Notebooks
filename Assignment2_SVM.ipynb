{
  "nbformat": 4,
  "nbformat_minor": 0,
  "metadata": {
    "colab": {
      "provenance": [],
      "authorship_tag": "ABX9TyMHGkS7K3DP8Phluhx3kUHR",
      "include_colab_link": true
    },
    "kernelspec": {
      "name": "python3",
      "display_name": "Python 3"
    },
    "language_info": {
      "name": "python"
    }
  },
  "cells": [
    {
      "cell_type": "markdown",
      "metadata": {
        "id": "view-in-github",
        "colab_type": "text"
      },
      "source": [
        "<a href=\"https://colab.research.google.com/github/Awrightone/Colab/blob/main/Assignment2_SVM.ipynb\" target=\"_parent\"><img src=\"https://colab.research.google.com/assets/colab-badge.svg\" alt=\"Open In Colab\"/></a>"
      ]
    },
    {
      "cell_type": "code",
      "execution_count": null,
      "metadata": {
        "id": "BC42l2diD0EG"
      },
      "outputs": [],
      "source": [
        "import pandas as pd\n",
        "dfAW =pd.read_csv('BostonHousing.csv')"
      ]
    },
    {
      "cell_type": "code",
      "source": [
        "dfAW.describe()\n",
        "import seaborn as sns\n",
        "from matplotlib import pyplot as plt"
      ],
      "metadata": {
        "id": "aLYcF17LEAwz"
      },
      "execution_count": null,
      "outputs": []
    },
    {
      "cell_type": "code",
      "source": [
        "dfAW.drop('MEDV', axis=1)"
      ],
      "metadata": {
        "id": "JvEi1GHjEM2T"
      },
      "execution_count": null,
      "outputs": []
    },
    {
      "cell_type": "code",
      "source": [
        "y = dfAW['CAT. MEDV']\n",
        "\n",
        "X = dfAW.drop('CAT. MEDV', axis=1)"
      ],
      "metadata": {
        "id": "WIGjIzlSNIHK"
      },
      "execution_count": null,
      "outputs": []
    },
    {
      "cell_type": "code",
      "source": [
        "from sklearn.preprocessing import StandardScaler"
      ],
      "metadata": {
        "id": "56tsPTGANMLP"
      },
      "execution_count": null,
      "outputs": []
    },
    {
      "cell_type": "code",
      "source": [
        "X=StandardScaler().fit_transform(X)"
      ],
      "metadata": {
        "id": "uKKxK_vSNTeX"
      },
      "execution_count": null,
      "outputs": []
    },
    {
      "cell_type": "code",
      "source": [
        "import numpy as np"
      ],
      "metadata": {
        "id": "N51JlYZCNk-A"
      },
      "execution_count": null,
      "outputs": []
    },
    {
      "cell_type": "code",
      "source": [
        "print(np.mean(X,axis=0))\n",
        "print(np.std(X,axis=0))"
      ],
      "metadata": {
        "id": "a_qyzwSsNp28"
      },
      "execution_count": null,
      "outputs": []
    },
    {
      "cell_type": "code",
      "source": [
        "from sklearn.model_selection import train_test_split"
      ],
      "metadata": {
        "id": "iADg3AIjN3xZ"
      },
      "execution_count": null,
      "outputs": []
    },
    {
      "cell_type": "code",
      "source": [
        "X_train, X_val, y_train, y_val = train_test_split(X,y, test_size=0.3, random_state=0)"
      ],
      "metadata": {
        "id": "zwkl1_T0N9og"
      },
      "execution_count": null,
      "outputs": []
    },
    {
      "cell_type": "code",
      "source": [
        "from sklearn import svm\n",
        "linearSVM = svm.SVC(kernel='linear')\n",
        "\n",
        "linearSVM.C"
      ],
      "metadata": {
        "id": "n7KaKRzIOMhV"
      },
      "execution_count": null,
      "outputs": []
    },
    {
      "cell_type": "code",
      "source": [
        "linearSVM.fit(X_train,y_train)\n",
        "linearSVM.score(X_val, y_val)"
      ],
      "metadata": {
        "id": "YYi6VyNMSg8X"
      },
      "execution_count": null,
      "outputs": []
    },
    {
      "cell_type": "code",
      "source": [
        "radialSVM = svm.SVC(kernel='rbf')\n",
        "radialSVM.fit(X_train,y_train)\n",
        "radialSVM.score(X_val,y_val)"
      ],
      "metadata": {
        "id": "tIE46YmaTCi8"
      },
      "execution_count": null,
      "outputs": []
    },
    {
      "cell_type": "code",
      "source": [
        "from sklearn.model_selection import GridSearchCV\n",
        "\n",
        "param= {\n",
        "    'C': [0.1,0.5,1,5,10], \n",
        "    'gamma': [1,0.1,0.01,0.001], \n",
        "    'kernel':['rbf','linear']\n",
        "  \n",
        "}\n",
        "\n",
        "SVM= svm.SVC()"
      ],
      "metadata": {
        "id": "i-zmI_X-TJ7r"
      },
      "execution_count": null,
      "outputs": []
    },
    {
      "cell_type": "code",
      "source": [
        "grid= GridSearchCV(estimator=SVM, param_grid=param, verbose=3, cv=10)\n",
        "grid.fit(X_train,y_train)\n"
      ],
      "metadata": {
        "id": "Cmh0w7nJV6Ub"
      },
      "execution_count": null,
      "outputs": []
    },
    {
      "cell_type": "code",
      "source": [
        "grid.best_params_\n",
        "\n"
      ],
      "metadata": {
        "id": "7Kd6TJTJlFm9"
      },
      "execution_count": null,
      "outputs": []
    },
    {
      "cell_type": "code",
      "source": [
        "grid.score(X_val,y_val)"
      ],
      "metadata": {
        "id": "nFEYfq4fW8En"
      },
      "execution_count": null,
      "outputs": []
    }
  ]
}