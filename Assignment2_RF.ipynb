{
  "nbformat": 4,
  "nbformat_minor": 0,
  "metadata": {
    "colab": {
      "provenance": [],
      "authorship_tag": "ABX9TyP5R1UPk//7hlNbRpOyO5BC",
      "include_colab_link": true
    },
    "kernelspec": {
      "name": "python3",
      "display_name": "Python 3"
    },
    "language_info": {
      "name": "python"
    }
  },
  "cells": [
    {
      "cell_type": "markdown",
      "metadata": {
        "id": "view-in-github",
        "colab_type": "text"
      },
      "source": [
        "<a href=\"https://colab.research.google.com/github/Awrightone/Colab/blob/main/Assignment2_RF.ipynb\" target=\"_parent\"><img src=\"https://colab.research.google.com/assets/colab-badge.svg\" alt=\"Open In Colab\"/></a>"
      ]
    },
    {
      "cell_type": "code",
      "execution_count": null,
      "metadata": {
        "id": "HnAsyZCkc431"
      },
      "outputs": [],
      "source": [
        "import pandas as pd\n"
      ]
    },
    {
      "cell_type": "code",
      "source": [
        "dfAW =pd.read_csv('BostonHousing.csv')"
      ],
      "metadata": {
        "id": "zQHLgCegfv0q"
      },
      "execution_count": null,
      "outputs": []
    },
    {
      "cell_type": "code",
      "source": [
        "dfAW.describe()"
      ],
      "metadata": {
        "id": "xNwO1vBxf--1"
      },
      "execution_count": null,
      "outputs": []
    },
    {
      "cell_type": "code",
      "source": [
        "dfAW.drop('MEDV', axis=1)"
      ],
      "metadata": {
        "id": "xgQ_RwAcu_cS"
      },
      "execution_count": null,
      "outputs": []
    },
    {
      "cell_type": "code",
      "source": [
        "from sklearn.model_selection import train_test_split"
      ],
      "metadata": {
        "id": "l5jIwDethEDc"
      },
      "execution_count": null,
      "outputs": []
    },
    {
      "cell_type": "code",
      "source": [
        "print(dfAW.columns)"
      ],
      "metadata": {
        "id": "bxU4e5i4xB7J"
      },
      "execution_count": null,
      "outputs": []
    },
    {
      "cell_type": "code",
      "source": [
        "y = dfAW['CAT. MEDV']\n",
        "\n",
        "X = dfAW.drop('CAT. MEDV', axis=1)"
      ],
      "metadata": {
        "id": "Byq-imFLhNvL"
      },
      "execution_count": null,
      "outputs": []
    },
    {
      "cell_type": "code",
      "source": [
        "X_train, X_val, y_train, y_val = train_test_split(X,y, test_size=0.3, random_state=0)"
      ],
      "metadata": {
        "id": "RwUxjo791S8A"
      },
      "execution_count": null,
      "outputs": []
    },
    {
      "cell_type": "code",
      "source": [
        "from sklearn.ensemble import RandomForestClassifier"
      ],
      "metadata": {
        "id": "MKChrmDOzWf8"
      },
      "execution_count": null,
      "outputs": []
    },
    {
      "cell_type": "code",
      "source": [
        "from pyparsing.helpers import Any\n",
        "rfAW= RandomForestClassifier(n_estimators= 100, random_state=0)"
      ],
      "metadata": {
        "id": "qhL3Bu1J09xs"
      },
      "execution_count": null,
      "outputs": []
    },
    {
      "cell_type": "code",
      "source": [
        "rfAW.fit(X_train, y_train)"
      ],
      "metadata": {
        "id": "k5yOouhH1MZ5"
      },
      "execution_count": null,
      "outputs": []
    },
    {
      "cell_type": "code",
      "source": [
        "rfAW.score(X_val, y_val)"
      ],
      "metadata": {
        "id": "LcLFqqmd2N9o"
      },
      "execution_count": null,
      "outputs": []
    },
    {
      "cell_type": "code",
      "source": [
        "from sklearn.model_selection import GridSearchCV\n",
        "import numpy as np"
      ],
      "metadata": {
        "id": "WOB0miJ22WC9"
      },
      "execution_count": null,
      "outputs": []
    },
    {
      "cell_type": "code",
      "source": [
        "param= {\n",
        "    'n_estimators': [50,100],\n",
        "    'max_features': range(1,14)   \n",
        "}"
      ],
      "metadata": {
        "id": "08K99Z7h2idp"
      },
      "execution_count": null,
      "outputs": []
    },
    {
      "cell_type": "code",
      "source": [
        "rfAW2= RandomForestClassifier(random_state=0)"
      ],
      "metadata": {
        "id": "QXhvBheC3LH6"
      },
      "execution_count": null,
      "outputs": []
    },
    {
      "cell_type": "code",
      "source": [
        "grid_search= GridSearchCV (estimator=rfAW2, param_grid=param, n_jobs= -1)\n",
        "grid_search.fit(X_train,y_train)"
      ],
      "metadata": {
        "id": "i8vcorJK3Q4M"
      },
      "execution_count": null,
      "outputs": []
    },
    {
      "cell_type": "code",
      "source": [
        "grid_search.best_params_"
      ],
      "metadata": {
        "id": "tYuiojvA3sVA"
      },
      "execution_count": null,
      "outputs": []
    },
    {
      "cell_type": "code",
      "source": [
        "grid_search.score(X_val, y_val)"
      ],
      "metadata": {
        "id": "8YTU8uly3sMe"
      },
      "execution_count": null,
      "outputs": []
    },
    {
      "cell_type": "code",
      "source": [
        "final_model = grid_search.best_estimator_"
      ],
      "metadata": {
        "id": "Kjo8UkYV8HHo"
      },
      "execution_count": null,
      "outputs": []
    },
    {
      "cell_type": "code",
      "source": [
        "feature_imp = pd.Series(final_model.feature_importances_,index= X.columns).sort_values\n"
      ],
      "metadata": {
        "id": "-vpV1MJZ8PAR"
      },
      "execution_count": null,
      "outputs": []
    },
    {
      "cell_type": "code",
      "source": [
        "feature_imp"
      ],
      "metadata": {
        "id": "NNFLJ9XAy1Cl"
      },
      "execution_count": null,
      "outputs": []
    }
  ]
}